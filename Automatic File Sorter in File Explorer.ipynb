{
 "cells": [
  {
   "cell_type": "markdown",
   "id": "4cafe012",
   "metadata": {},
   "source": [
    "# AUTOMATIC FILE SORTER IN FILE EXPLORER"
   ]
  },
  {
   "cell_type": "code",
   "execution_count": 1,
   "id": "1266c834",
   "metadata": {},
   "outputs": [],
   "source": [
    "import os, shutil"
   ]
  },
  {
   "cell_type": "code",
   "execution_count": 7,
   "id": "a6d80ae4",
   "metadata": {},
   "outputs": [],
   "source": [
    "path = r\"C:/Users/T470s/OneDrive/Dokumente/Python tutorial/\""
   ]
  },
  {
   "cell_type": "code",
   "execution_count": 10,
   "id": "6b7a8ec9",
   "metadata": {},
   "outputs": [],
   "source": [
    "file_name = os.listdir(path)"
   ]
  },
  {
   "cell_type": "code",
   "execution_count": 16,
   "id": "f1468f99",
   "metadata": {},
   "outputs": [],
   "source": [
    "folder_names = ['Excel files','Images files','Text files']\n",
    "\n",
    "for loop in range (0,3):\n",
    "    if not os.path.exists(path+folder_names[loop]):\n",
    "        print(path+ folder_names[loop])\n",
    "        os.makedirs(path+folder_names[loop])\n",
    "            \n",
    "            \n",
    "for file in file_name:\n",
    "    if \".xlsx\" in file and not os.path.exists(path + \"Excel files/\" + file):\n",
    "        shutil.move(path+file, path + \"Excel files/\" + file)\n",
    "    elif \".ipynb\" in file and not os.path.exists(path + \"Text files/\" + file):\n",
    "        shutil.move(path+file, path + \"Text files/\" + file)\n",
    "    elif \".jfif\" in file and not os.path.exists(path + \"Images files/\" + file):\n",
    "        shutil.move(path+file, path + \"Images files/\" + file)   "
   ]
  },
  {
   "cell_type": "code",
   "execution_count": 15,
   "id": "4d287ac1",
   "metadata": {},
   "outputs": [],
   "source": [
    "     "
   ]
  },
  {
   "cell_type": "code",
   "execution_count": null,
   "id": "b869af9f",
   "metadata": {},
   "outputs": [],
   "source": []
  },
  {
   "cell_type": "code",
   "execution_count": null,
   "id": "ce7e275b",
   "metadata": {},
   "outputs": [],
   "source": []
  },
  {
   "cell_type": "code",
   "execution_count": null,
   "id": "2091de52",
   "metadata": {},
   "outputs": [],
   "source": []
  },
  {
   "cell_type": "code",
   "execution_count": null,
   "id": "6ad75883",
   "metadata": {},
   "outputs": [],
   "source": []
  },
  {
   "cell_type": "code",
   "execution_count": null,
   "id": "71cb2ab8",
   "metadata": {},
   "outputs": [],
   "source": []
  },
  {
   "cell_type": "code",
   "execution_count": null,
   "id": "b6d86cd5",
   "metadata": {},
   "outputs": [],
   "source": []
  },
  {
   "cell_type": "code",
   "execution_count": null,
   "id": "c811ce8a",
   "metadata": {},
   "outputs": [],
   "source": []
  }
 ],
 "metadata": {
  "kernelspec": {
   "display_name": "Python 3 (ipykernel)",
   "language": "python",
   "name": "python3"
  },
  "language_info": {
   "codemirror_mode": {
    "name": "ipython",
    "version": 3
   },
   "file_extension": ".py",
   "mimetype": "text/x-python",
   "name": "python",
   "nbconvert_exporter": "python",
   "pygments_lexer": "ipython3",
   "version": "3.10.9"
  }
 },
 "nbformat": 4,
 "nbformat_minor": 5
}
